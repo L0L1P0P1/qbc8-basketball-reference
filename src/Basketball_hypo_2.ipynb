{
 "cells": [
  {
   "cell_type": "code",
   "execution_count": 19,
   "id": "da79fa5a-5c32-463e-b479-3e9f7315178e",
   "metadata": {},
   "outputs": [],
   "source": [
    "# H0 : The average intrinsic ability of the champion team's players in the last two seasons is the same as in the previous two seasons.\n",
    "# H1 : The average intrinsic ability of the champion team's players in the last two seasons is greater than in the previous two seasons."
   ]
  },
  {
   "cell_type": "code",
   "execution_count": 20,
   "id": "5899ded4-591c-4770-81ef-32b8688c0e21",
   "metadata": {},
   "outputs": [],
   "source": [
    "import pandas as pd\n",
    "from scipy.stats import shapiro, mannwhitneyu"
   ]
  },
  {
   "cell_type": "code",
   "execution_count": 21,
   "id": "aef66180-b820-4468-ab54-984250657ab0",
   "metadata": {},
   "outputs": [
    {
     "data": {
      "text/html": [
       "<div>\n",
       "<style scoped>\n",
       "    .dataframe tbody tr th:only-of-type {\n",
       "        vertical-align: middle;\n",
       "    }\n",
       "\n",
       "    .dataframe tbody tr th {\n",
       "        vertical-align: top;\n",
       "    }\n",
       "\n",
       "    .dataframe thead th {\n",
       "        text-align: right;\n",
       "    }\n",
       "</style>\n",
       "<table border=\"1\" class=\"dataframe\">\n",
       "  <thead>\n",
       "    <tr style=\"text-align: right;\">\n",
       "      <th></th>\n",
       "      <th>player_name</th>\n",
       "      <th>player_id</th>\n",
       "      <th>team_id</th>\n",
       "      <th>year</th>\n",
       "      <th>retired</th>\n",
       "      <th>experience</th>\n",
       "      <th>birthdate</th>\n",
       "      <th>Age</th>\n",
       "      <th>intrinsic_ability</th>\n",
       "    </tr>\n",
       "  </thead>\n",
       "  <tbody>\n",
       "    <tr>\n",
       "      <th>0</th>\n",
       "      <td>Giannis Antetokounmpo</td>\n",
       "      <td>a/antetgi01</td>\n",
       "      <td>MIL</td>\n",
       "      <td>2020</td>\n",
       "      <td>False</td>\n",
       "      <td>6</td>\n",
       "      <td>12/6/1994</td>\n",
       "      <td>30</td>\n",
       "      <td>0.200000</td>\n",
       "    </tr>\n",
       "    <tr>\n",
       "      <th>1</th>\n",
       "      <td>Thanasis Antetokounmpo</td>\n",
       "      <td>a/antetth01</td>\n",
       "      <td>MIL</td>\n",
       "      <td>2020</td>\n",
       "      <td>False</td>\n",
       "      <td>1</td>\n",
       "      <td>7/18/1992</td>\n",
       "      <td>32</td>\n",
       "      <td>0.031250</td>\n",
       "    </tr>\n",
       "    <tr>\n",
       "      <th>2</th>\n",
       "      <td>Dragan Bender</td>\n",
       "      <td>b/bendedr01</td>\n",
       "      <td>MIL</td>\n",
       "      <td>2020</td>\n",
       "      <td>True</td>\n",
       "      <td>3</td>\n",
       "      <td>11/17/1997</td>\n",
       "      <td>27</td>\n",
       "      <td>0.111111</td>\n",
       "    </tr>\n",
       "    <tr>\n",
       "      <th>3</th>\n",
       "      <td>Eric Bledsoe</td>\n",
       "      <td>b/bledser01</td>\n",
       "      <td>MIL</td>\n",
       "      <td>2020</td>\n",
       "      <td>True</td>\n",
       "      <td>9</td>\n",
       "      <td>12/9/1989</td>\n",
       "      <td>35</td>\n",
       "      <td>0.257143</td>\n",
       "    </tr>\n",
       "    <tr>\n",
       "      <th>4</th>\n",
       "      <td>Sterling Brown</td>\n",
       "      <td>b/brownst02</td>\n",
       "      <td>MIL</td>\n",
       "      <td>2020</td>\n",
       "      <td>False</td>\n",
       "      <td>2</td>\n",
       "      <td>2/10/1995</td>\n",
       "      <td>29</td>\n",
       "      <td>0.068966</td>\n",
       "    </tr>\n",
       "  </tbody>\n",
       "</table>\n",
       "</div>"
      ],
      "text/plain": [
       "              player_name    player_id team_id  year  retired  experience  \\\n",
       "0   Giannis Antetokounmpo  a/antetgi01     MIL  2020    False           6   \n",
       "1  Thanasis Antetokounmpo  a/antetth01     MIL  2020    False           1   \n",
       "2           Dragan Bender  b/bendedr01     MIL  2020     True           3   \n",
       "3            Eric Bledsoe  b/bledser01     MIL  2020     True           9   \n",
       "4          Sterling Brown  b/brownst02     MIL  2020    False           2   \n",
       "\n",
       "    birthdate  Age  intrinsic_ability  \n",
       "0   12/6/1994   30           0.200000  \n",
       "1   7/18/1992   32           0.031250  \n",
       "2  11/17/1997   27           0.111111  \n",
       "3   12/9/1989   35           0.257143  \n",
       "4   2/10/1995   29           0.068966  "
      ]
     },
     "execution_count": 21,
     "metadata": {},
     "output_type": "execute_result"
    }
   ],
   "source": [
    "# Load the dataset\n",
    "data = pd.read_csv(\"D:/Bootcamp/mini project/top_team_players_data.csv\")\n",
    "data.head()"
   ]
  },
  {
   "cell_type": "code",
   "execution_count": 22,
   "id": "935748fa-7f2e-419b-b66f-7aaf3409293a",
   "metadata": {},
   "outputs": [
    {
     "name": "stdout",
     "output_type": "stream",
     "text": [
      "<class 'pandas.core.frame.DataFrame'>\n",
      "RangeIndex: 191 entries, 0 to 190\n",
      "Data columns (total 9 columns):\n",
      " #   Column             Non-Null Count  Dtype  \n",
      "---  ------             --------------  -----  \n",
      " 0   player_name        191 non-null    object \n",
      " 1   player_id          191 non-null    object \n",
      " 2   team_id            191 non-null    object \n",
      " 3   year               191 non-null    int64  \n",
      " 4   retired            191 non-null    bool   \n",
      " 5   experience         191 non-null    int64  \n",
      " 6   birthdate          191 non-null    object \n",
      " 7   Age                191 non-null    int64  \n",
      " 8   intrinsic_ability  191 non-null    float64\n",
      "dtypes: bool(1), float64(1), int64(3), object(4)\n",
      "memory usage: 12.3+ KB\n"
     ]
    }
   ],
   "source": [
    "data.info()"
   ]
  },
  {
   "cell_type": "code",
   "execution_count": 23,
   "id": "7477e2bb-c7a5-477a-bbf0-3f2646496096",
   "metadata": {},
   "outputs": [],
   "source": [
    "# Create a copy of the dataset\n",
    "data_copy = data.copy()"
   ]
  },
  {
   "cell_type": "code",
   "execution_count": 24,
   "id": "9f690e05-5bea-4f91-946e-3f15cb99ed85",
   "metadata": {},
   "outputs": [
    {
     "data": {
      "text/html": [
       "<div>\n",
       "<style scoped>\n",
       "    .dataframe tbody tr th:only-of-type {\n",
       "        vertical-align: middle;\n",
       "    }\n",
       "\n",
       "    .dataframe tbody tr th {\n",
       "        vertical-align: top;\n",
       "    }\n",
       "\n",
       "    .dataframe thead th {\n",
       "        text-align: right;\n",
       "    }\n",
       "</style>\n",
       "<table border=\"1\" class=\"dataframe\">\n",
       "  <thead>\n",
       "    <tr style=\"text-align: right;\">\n",
       "      <th></th>\n",
       "      <th>player_name</th>\n",
       "      <th>player_id</th>\n",
       "      <th>team_id</th>\n",
       "      <th>year</th>\n",
       "      <th>retired</th>\n",
       "      <th>experience</th>\n",
       "      <th>birthdate</th>\n",
       "      <th>Age</th>\n",
       "      <th>intrinsic_ability</th>\n",
       "    </tr>\n",
       "  </thead>\n",
       "  <tbody>\n",
       "    <tr>\n",
       "      <th>35</th>\n",
       "      <td>Udoka Azubuike</td>\n",
       "      <td>a/azubuud01</td>\n",
       "      <td>UTA</td>\n",
       "      <td>2021</td>\n",
       "      <td>False</td>\n",
       "      <td>0</td>\n",
       "      <td>9/17/1999</td>\n",
       "      <td>25</td>\n",
       "      <td>0.000000</td>\n",
       "    </tr>\n",
       "    <tr>\n",
       "      <th>36</th>\n",
       "      <td>Bojan Bogdanović</td>\n",
       "      <td>b/bogdabo02</td>\n",
       "      <td>UTA</td>\n",
       "      <td>2021</td>\n",
       "      <td>False</td>\n",
       "      <td>6</td>\n",
       "      <td>4/18/1989</td>\n",
       "      <td>35</td>\n",
       "      <td>0.171429</td>\n",
       "    </tr>\n",
       "    <tr>\n",
       "      <th>37</th>\n",
       "      <td>Jarrell Brantley</td>\n",
       "      <td>b/brantja01</td>\n",
       "      <td>UTA</td>\n",
       "      <td>2021</td>\n",
       "      <td>False</td>\n",
       "      <td>1</td>\n",
       "      <td>6/7/1996</td>\n",
       "      <td>28</td>\n",
       "      <td>0.035714</td>\n",
       "    </tr>\n",
       "    <tr>\n",
       "      <th>38</th>\n",
       "      <td>Jordan Clarkson</td>\n",
       "      <td>c/clarkjo01</td>\n",
       "      <td>UTA</td>\n",
       "      <td>2021</td>\n",
       "      <td>False</td>\n",
       "      <td>6</td>\n",
       "      <td>6/7/1992</td>\n",
       "      <td>32</td>\n",
       "      <td>0.187500</td>\n",
       "    </tr>\n",
       "    <tr>\n",
       "      <th>39</th>\n",
       "      <td>Mike Conley</td>\n",
       "      <td>c/conlemi01</td>\n",
       "      <td>UTA</td>\n",
       "      <td>2021</td>\n",
       "      <td>False</td>\n",
       "      <td>13</td>\n",
       "      <td>10/11/1987</td>\n",
       "      <td>37</td>\n",
       "      <td>0.351351</td>\n",
       "    </tr>\n",
       "  </tbody>\n",
       "</table>\n",
       "</div>"
      ],
      "text/plain": [
       "         player_name    player_id team_id  year  retired  experience  \\\n",
       "35    Udoka Azubuike  a/azubuud01     UTA  2021    False           0   \n",
       "36  Bojan Bogdanović  b/bogdabo02     UTA  2021    False           6   \n",
       "37  Jarrell Brantley  b/brantja01     UTA  2021    False           1   \n",
       "38   Jordan Clarkson  c/clarkjo01     UTA  2021    False           6   \n",
       "39       Mike Conley  c/conlemi01     UTA  2021    False          13   \n",
       "\n",
       "     birthdate  Age  intrinsic_ability  \n",
       "35   9/17/1999   25           0.000000  \n",
       "36   4/18/1989   35           0.171429  \n",
       "37    6/7/1996   28           0.035714  \n",
       "38    6/7/1992   32           0.187500  \n",
       "39  10/11/1987   37           0.351351  "
      ]
     },
     "execution_count": 24,
     "metadata": {},
     "output_type": "execute_result"
    }
   ],
   "source": [
    "# Divide data into two periods\n",
    "period_1 = data_copy[data_copy['year'].between(2021, 2022)]  # 2020-2021 to 2021-2022\n",
    "period_1.head()"
   ]
  },
  {
   "cell_type": "code",
   "execution_count": 25,
   "id": "6a3b602d-5416-45d7-ad4d-01c17a4ca280",
   "metadata": {},
   "outputs": [
    {
     "data": {
      "text/html": [
       "<div>\n",
       "<style scoped>\n",
       "    .dataframe tbody tr th:only-of-type {\n",
       "        vertical-align: middle;\n",
       "    }\n",
       "\n",
       "    .dataframe tbody tr th {\n",
       "        vertical-align: top;\n",
       "    }\n",
       "\n",
       "    .dataframe thead th {\n",
       "        text-align: right;\n",
       "    }\n",
       "</style>\n",
       "<table border=\"1\" class=\"dataframe\">\n",
       "  <thead>\n",
       "    <tr style=\"text-align: right;\">\n",
       "      <th></th>\n",
       "      <th>player_name</th>\n",
       "      <th>player_id</th>\n",
       "      <th>team_id</th>\n",
       "      <th>year</th>\n",
       "      <th>retired</th>\n",
       "      <th>experience</th>\n",
       "      <th>birthdate</th>\n",
       "      <th>Age</th>\n",
       "      <th>intrinsic_ability</th>\n",
       "    </tr>\n",
       "  </thead>\n",
       "  <tbody>\n",
       "    <tr>\n",
       "      <th>116</th>\n",
       "      <td>Grayson Allen</td>\n",
       "      <td>a/allengr01</td>\n",
       "      <td>MIL</td>\n",
       "      <td>2023</td>\n",
       "      <td>False</td>\n",
       "      <td>4</td>\n",
       "      <td>10/8/1995</td>\n",
       "      <td>29</td>\n",
       "      <td>0.137931</td>\n",
       "    </tr>\n",
       "    <tr>\n",
       "      <th>117</th>\n",
       "      <td>Giannis Antetokounmpo</td>\n",
       "      <td>a/antetgi01</td>\n",
       "      <td>MIL</td>\n",
       "      <td>2023</td>\n",
       "      <td>False</td>\n",
       "      <td>9</td>\n",
       "      <td>12/6/1994</td>\n",
       "      <td>30</td>\n",
       "      <td>0.300000</td>\n",
       "    </tr>\n",
       "    <tr>\n",
       "      <th>118</th>\n",
       "      <td>Thanasis Antetokounmpo</td>\n",
       "      <td>a/antetth01</td>\n",
       "      <td>MIL</td>\n",
       "      <td>2023</td>\n",
       "      <td>False</td>\n",
       "      <td>4</td>\n",
       "      <td>7/18/1992</td>\n",
       "      <td>32</td>\n",
       "      <td>0.125000</td>\n",
       "    </tr>\n",
       "    <tr>\n",
       "      <th>119</th>\n",
       "      <td>MarJon Beauchamp</td>\n",
       "      <td>b/beaucma01</td>\n",
       "      <td>MIL</td>\n",
       "      <td>2023</td>\n",
       "      <td>False</td>\n",
       "      <td>0</td>\n",
       "      <td>10/12/2000</td>\n",
       "      <td>24</td>\n",
       "      <td>0.000000</td>\n",
       "    </tr>\n",
       "    <tr>\n",
       "      <th>120</th>\n",
       "      <td>Jevon Carter</td>\n",
       "      <td>c/carteje01</td>\n",
       "      <td>MIL</td>\n",
       "      <td>2023</td>\n",
       "      <td>False</td>\n",
       "      <td>4</td>\n",
       "      <td>9/14/1995</td>\n",
       "      <td>29</td>\n",
       "      <td>0.137931</td>\n",
       "    </tr>\n",
       "  </tbody>\n",
       "</table>\n",
       "</div>"
      ],
      "text/plain": [
       "                player_name    player_id team_id  year  retired  experience  \\\n",
       "116           Grayson Allen  a/allengr01     MIL  2023    False           4   \n",
       "117   Giannis Antetokounmpo  a/antetgi01     MIL  2023    False           9   \n",
       "118  Thanasis Antetokounmpo  a/antetth01     MIL  2023    False           4   \n",
       "119        MarJon Beauchamp  b/beaucma01     MIL  2023    False           0   \n",
       "120            Jevon Carter  c/carteje01     MIL  2023    False           4   \n",
       "\n",
       "      birthdate  Age  intrinsic_ability  \n",
       "116   10/8/1995   29           0.137931  \n",
       "117   12/6/1994   30           0.300000  \n",
       "118   7/18/1992   32           0.125000  \n",
       "119  10/12/2000   24           0.000000  \n",
       "120   9/14/1995   29           0.137931  "
      ]
     },
     "execution_count": 25,
     "metadata": {},
     "output_type": "execute_result"
    }
   ],
   "source": [
    "period_2 = data_copy[data_copy['year'].between(2023, 2024)]  # 2022-2023 to 2023-2024\n",
    "period_2.head()"
   ]
  },
  {
   "cell_type": "code",
   "execution_count": 26,
   "id": "3eef3e15-d37b-4b03-98e8-7e78bf7e11f3",
   "metadata": {},
   "outputs": [
    {
     "name": "stdout",
     "output_type": "stream",
     "text": [
      "mean for intrinsic_ability in Period1: 0.11732189254320988\n",
      "mean for intrinsic_ability in Period2: 0.17959903813333333\n"
     ]
    }
   ],
   "source": [
    "# Calculate mean intrinsic_ability for both periods\n",
    "mean_intrinsic_ability_1 = period_1['intrinsic_ability'].mean()\n",
    "print(f\"mean for intrinsic_ability in Period1: {mean_intrinsic_ability_1}\")\n",
    "mean_intrinsic_ability_2 = period_2['intrinsic_ability'].mean()\n",
    "print(f\"mean for intrinsic_ability in Period2: {mean_intrinsic_ability_2}\")"
   ]
  },
  {
   "cell_type": "code",
   "execution_count": 27,
   "id": "82cbca2f-5341-481c-8746-8d6cfa98db0b",
   "metadata": {},
   "outputs": [
    {
     "name": "stdout",
     "output_type": "stream",
     "text": [
      "Shapiro-Wilk for Period 1:ShapiroResult(statistic=np.float64(0.9084076142851828), pvalue=np.float64(2.52362453786993e-05))\n",
      "Shapiro-Wilk for Period 2: ShapiroResult(statistic=np.float64(0.9463447845580649), pvalue=np.float64(0.003158702743104995))\n"
     ]
    }
   ],
   "source": [
    "# Check if the intrinsic ability data is normally distributed for both periods\n",
    "shapiro_1 = shapiro(period_1['intrinsic_ability'])\n",
    "print(f\"Shapiro-Wilk for Period 1:{shapiro_1}\")\n",
    "shapiro_2 = shapiro(period_2['intrinsic_ability'])\n",
    "print(f\"Shapiro-Wilk for Period 2:\", shapiro_2)"
   ]
  },
  {
   "cell_type": "code",
   "execution_count": 28,
   "id": "46e29492-63c7-40cf-8d3d-5ae1fe7e1e51",
   "metadata": {},
   "outputs": [
    {
     "name": "stdout",
     "output_type": "stream",
     "text": [
      "Shapiro-Wilk Test for Period 1:\n",
      "  Statistic: 0.9084\n",
      "  P-value: 0.0000\n",
      "  Normality: Rejected\n",
      "\n",
      "Shapiro-Wilk Test for Period 2:\n",
      "  Statistic: 0.9463\n",
      "  P-value: 0.0032\n",
      "  Normality: Rejected\n"
     ]
    }
   ],
   "source": [
    "# Display the Shapiro-Wilk test results\n",
    "print(f\"Shapiro-Wilk Test for Period 1:\")\n",
    "\n",
    "print(f\"  Statistic: {shapiro_1.statistic:.4f}\")\n",
    "\n",
    "print(f\"  P-value: {shapiro_1.pvalue:.4f}\")\n",
    "\n",
    "print(f\"  Normality: {'Accepted' if shapiro_1.pvalue > 0.05 else 'Rejected'}\")\n",
    "\n",
    "print(f\"\\nShapiro-Wilk Test for Period 2:\")\n",
    "\n",
    "print(f\"  Statistic: {shapiro_2.statistic:.4f}\")\n",
    "\n",
    "print(f\"  P-value: {shapiro_2.pvalue:.4f}\")\n",
    "\n",
    "print(f\"  Normality: {'Accepted' if shapiro_2.pvalue > 0.05 else 'Rejected'}\")"
   ]
  },
  {
   "cell_type": "code",
   "execution_count": 29,
   "id": "8f1e5a9a-167f-4632-9f53-56a21ed5629e",
   "metadata": {},
   "outputs": [],
   "source": [
    "# Use Mann-Whitney U test to compare intrinsic ability between the two periods\n",
    "stat, p_value = mannwhitneyu(period_1['intrinsic_ability'], period_2['intrinsic_ability'])"
   ]
  },
  {
   "cell_type": "code",
   "execution_count": 30,
   "id": "a5376540-47d2-46a9-8d75-03012f84ed2d",
   "metadata": {},
   "outputs": [
    {
     "name": "stdout",
     "output_type": "stream",
     "text": [
      "\n",
      "Mann-Whitney U Test:\n",
      "  Statistic: 2133.0\n",
      "  P-value: 0.001314756512552457\n"
     ]
    }
   ],
   "source": [
    "# Display the Mann-Whitney U test results\n",
    "print(f\"\\nMann-Whitney U Test:\")\n",
    "print(f\"  Statistic: {stat}\")\n",
    "print(f\"  P-value: {p_value}\")"
   ]
  },
  {
   "cell_type": "code",
   "execution_count": 31,
   "id": "9e3cbf14-53c3-4e06-a759-800af026b01e",
   "metadata": {},
   "outputs": [
    {
     "name": "stdout",
     "output_type": "stream",
     "text": [
      "Null hypothesis rejected: The average intrinsic ability is significantly different.\n"
     ]
    }
   ],
   "source": [
    "# Evaluate the null hypothesis\n",
    "if p_value < 0.05:\n",
    "    print(\"Null hypothesis rejected: The average intrinsic ability is significantly different.\")\n",
    "else:\n",
    "    print(\"Null hypothesis not rejected: No significant difference in average intrinsic ability.\")"
   ]
  }
 ],
 "metadata": {
  "kernelspec": {
   "display_name": "Python 3 (ipykernel)",
   "language": "python",
   "name": "python3"
  },
  "language_info": {
   "codemirror_mode": {
    "name": "ipython",
    "version": 3
   },
   "file_extension": ".py",
   "mimetype": "text/x-python",
   "name": "python",
   "nbconvert_exporter": "python",
   "pygments_lexer": "ipython3",
   "version": "3.12.8"
  }
 },
 "nbformat": 4,
 "nbformat_minor": 5
}
