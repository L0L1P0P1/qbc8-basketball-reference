{
 "cells": [
  {
   "cell_type": "markdown",
   "id": "a39151c8-4a69-403e-8242-78ec9d3c513d",
   "metadata": {},
   "source": [
    "# Modules To Import"
   ]
  },
  {
   "cell_type": "code",
   "execution_count": 199,
   "id": "a005fd11-7f6c-426a-a41b-13374cf92dab",
   "metadata": {},
   "outputs": [],
   "source": [
    "from bs4 import BeautifulSoup\n",
    "import requests\n",
    "import pandas as pd\n",
    "import re"
   ]
  },
  {
   "cell_type": "markdown",
   "id": "97b3f91e-5a4f-4fd6-bd19-6eb67aa8e4d8",
   "metadata": {},
   "source": [
    "# Crawler Class\n",
    "> #### Note On Season Identifiers\n",
    "> Season years are represented in th from of \"Season year-year+1\" (e.g. Season 2021-2022). To have less data complexity and more efficieny I choose \"year+1\" from each season in the form of \"year-year+1\" as a key for that specific season because the website [basketball-reference.com](www.basketball-reference.com) is also doing the same.\n",
    "> \n",
    ">  **TL;DR**: The key \"2024\" points to the 2023-24 season.  "
   ]
  },
  {
   "cell_type": "code",
   "execution_count": 140,
   "id": "3d01c514-796f-4430-b147-d34ef5b14920",
   "metadata": {},
   "outputs": [],
   "source": [
    "class Crawler:\n",
    "    def get_mvps(self, mvp_page):\n",
    "        mvp_soup = BeautifulSoup(mvp_page.content, \"html.parser\")\n",
    "        mvp_soup = mvp_soup.find('table', id=\"mvp_NBA\").tbody.find_all(\"tr\")\n",
    "        mvp_df = pd.DataFrame(columns=[\"player_name\", \"player_id\", \"team\", \"year\"])\n",
    "\n",
    "        # Scraps Required Elements from each row of the table\n",
    "        for tr in mvp_soup:\n",
    "            mvp_df.loc[len(mvp_df)] = [      \n",
    "                tr.find(attrs={\"data-stat\":\"player\"}).a.string,\n",
    "                tr.find(attrs={\"data-stat\":\"player\"}).a.get(\"href\")[9:-5],\n",
    "                tr.find(attrs={\"data-stat\":\"team_id\"}).a.get(\"href\")[1:-5].split(\"/\")[1],\n",
    "                tr.find(attrs={\"data-stat\":\"team_id\"}).a.get(\"href\")[1:-5].split(\"/\")[-1]\n",
    "            ]\n",
    "        return mvp_df\n",
    "\n",
    "    def get_player_data(self, player_series: pd.Series, player_page):\n",
    "        player_series = player_series.copy()\n",
    "#        player_page = requests.get(\"https://www.basketball-reference.com/players/\" + player_series[\"player_id\"] + \".html\")\n",
    "        player_soup = BeautifulSoup(player_page.content, \"html.parser\")\n",
    "        return player_soup\n",
    "        \n",
    "        "
   ]
  },
  {
   "cell_type": "code",
   "execution_count": 24,
   "id": "bd6dde84-661f-438f-aec0-8ee96778a92d",
   "metadata": {},
   "outputs": [],
   "source": [
    "mvp_page = requests.get(\"https://www.basketball-reference.com/awards/mvp.html\")"
   ]
  },
  {
   "cell_type": "code",
   "execution_count": 141,
   "id": "a7780da2-4a19-49db-9184-bedac4f112ca",
   "metadata": {},
   "outputs": [],
   "source": [
    "c = Crawler()\n",
    "mvp = c.get_mvps(mvp_page)\n",
    "player_page = requests.get(\"https://www.basketball-reference.com/players/\" + mvp.iloc[0][\"player_id\"] + \".html\")"
   ]
  },
  {
   "cell_type": "code",
   "execution_count": 236,
   "id": "e821e544-acdf-491e-9adb-53e85b879e82",
   "metadata": {},
   "outputs": [
    {
     "name": "stdout",
     "output_type": "stream",
     "text": [
      "9\n",
      "Right\n",
      "['211cm', '128kg']\n"
     ]
    },
    {
     "data": {
      "text/html": [
       "<div>\n",
       "<style scoped>\n",
       "    .dataframe tbody tr th:only-of-type {\n",
       "        vertical-align: middle;\n",
       "    }\n",
       "\n",
       "    .dataframe tbody tr th {\n",
       "        vertical-align: top;\n",
       "    }\n",
       "\n",
       "    .dataframe thead th {\n",
       "        text-align: right;\n",
       "    }\n",
       "</style>\n",
       "<table border=\"1\" class=\"dataframe\">\n",
       "  <thead>\n",
       "    <tr style=\"text-align: right;\">\n",
       "      <th></th>\n",
       "      <th>player_name</th>\n",
       "      <th>player_id</th>\n",
       "      <th>team</th>\n",
       "      <th>year</th>\n",
       "    </tr>\n",
       "  </thead>\n",
       "  <tbody>\n",
       "    <tr>\n",
       "      <th>0</th>\n",
       "      <td>Nikola Jokić</td>\n",
       "      <td>j/jokicni01</td>\n",
       "      <td>DEN</td>\n",
       "      <td>2024</td>\n",
       "    </tr>\n",
       "    <tr>\n",
       "      <th>1</th>\n",
       "      <td>Joel Embiid</td>\n",
       "      <td>e/embiijo01</td>\n",
       "      <td>PHI</td>\n",
       "      <td>2023</td>\n",
       "    </tr>\n",
       "    <tr>\n",
       "      <th>2</th>\n",
       "      <td>Nikola Jokić</td>\n",
       "      <td>j/jokicni01</td>\n",
       "      <td>DEN</td>\n",
       "      <td>2022</td>\n",
       "    </tr>\n",
       "    <tr>\n",
       "      <th>3</th>\n",
       "      <td>Nikola Jokić</td>\n",
       "      <td>j/jokicni01</td>\n",
       "      <td>DEN</td>\n",
       "      <td>2021</td>\n",
       "    </tr>\n",
       "    <tr>\n",
       "      <th>4</th>\n",
       "      <td>Giannis Antetokounmpo</td>\n",
       "      <td>a/antetgi01</td>\n",
       "      <td>MIL</td>\n",
       "      <td>2020</td>\n",
       "    </tr>\n",
       "    <tr>\n",
       "      <th>...</th>\n",
       "      <td>...</td>\n",
       "      <td>...</td>\n",
       "      <td>...</td>\n",
       "      <td>...</td>\n",
       "    </tr>\n",
       "    <tr>\n",
       "      <th>64</th>\n",
       "      <td>Wilt Chamberlain</td>\n",
       "      <td>c/chambwi01</td>\n",
       "      <td>PHW</td>\n",
       "      <td>1960</td>\n",
       "    </tr>\n",
       "    <tr>\n",
       "      <th>65</th>\n",
       "      <td>Bob Pettit</td>\n",
       "      <td>p/pettibo01</td>\n",
       "      <td>STL</td>\n",
       "      <td>1959</td>\n",
       "    </tr>\n",
       "    <tr>\n",
       "      <th>66</th>\n",
       "      <td>Bill Russell</td>\n",
       "      <td>r/russebi01</td>\n",
       "      <td>BOS</td>\n",
       "      <td>1958</td>\n",
       "    </tr>\n",
       "    <tr>\n",
       "      <th>67</th>\n",
       "      <td>Bob Cousy</td>\n",
       "      <td>c/cousybo01</td>\n",
       "      <td>BOS</td>\n",
       "      <td>1957</td>\n",
       "    </tr>\n",
       "    <tr>\n",
       "      <th>68</th>\n",
       "      <td>Bob Pettit</td>\n",
       "      <td>p/pettibo01</td>\n",
       "      <td>STL</td>\n",
       "      <td>1956</td>\n",
       "    </tr>\n",
       "  </tbody>\n",
       "</table>\n",
       "<p>69 rows × 4 columns</p>\n",
       "</div>"
      ],
      "text/plain": [
       "              player_name    player_id team  year\n",
       "0            Nikola Jokić  j/jokicni01  DEN  2024\n",
       "1             Joel Embiid  e/embiijo01  PHI  2023\n",
       "2            Nikola Jokić  j/jokicni01  DEN  2022\n",
       "3            Nikola Jokić  j/jokicni01  DEN  2021\n",
       "4   Giannis Antetokounmpo  a/antetgi01  MIL  2020\n",
       "..                    ...          ...  ...   ...\n",
       "64       Wilt Chamberlain  c/chambwi01  PHW  1960\n",
       "65             Bob Pettit  p/pettibo01  STL  1959\n",
       "66           Bill Russell  r/russebi01  BOS  1958\n",
       "67              Bob Cousy  c/cousybo01  BOS  1957\n",
       "68             Bob Pettit  p/pettibo01  STL  1956\n",
       "\n",
       "[69 rows x 4 columns]"
      ]
     },
     "execution_count": 236,
     "metadata": {},
     "output_type": "execute_result"
    }
   ],
   "source": [
    "jokic = c.get_player_data(mvp.iloc[0], player_page)\n",
    "# experience\n",
    "print(int(jokic.find(\"strong\", string=re.compile(\".*Experience:.*\")).next_sibling.strip().split()[0]))\n",
    "print(jokic.find(\"strong\", string=re.compile(\".*Shoots:.*\")).next_sibling.strip())\n",
    "print(jokic.find(\"span\", string=re.compile(\".*lb\")).next_sibling.strip()[1:-1].split(\",\\xa0\"))\n",
    "mvp"
   ]
  }
 ],
 "metadata": {
  "kernelspec": {
   "display_name": "Python 3 (ipykernel)",
   "language": "python",
   "name": "python3"
  },
  "language_info": {
   "codemirror_mode": {
    "name": "ipython",
    "version": 3
   },
   "file_extension": ".py",
   "mimetype": "text/x-python",
   "name": "python",
   "nbconvert_exporter": "python",
   "pygments_lexer": "ipython3",
   "version": "3.12.8"
  }
 },
 "nbformat": 4,
 "nbformat_minor": 5
}
