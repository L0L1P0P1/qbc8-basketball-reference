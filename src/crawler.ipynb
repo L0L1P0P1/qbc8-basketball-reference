{
 "cells": [
  {
   "cell_type": "markdown",
   "id": "a39151c8-4a69-403e-8242-78ec9d3c513d",
   "metadata": {},
   "source": [
    "# Modules To Import"
   ]
  },
  {
   "cell_type": "code",
   "execution_count": 8,
   "id": "a005fd11-7f6c-426a-a41b-13374cf92dab",
   "metadata": {},
   "outputs": [],
   "source": [
    "from bs4 import BeautifulSoup\n",
    "import requests\n",
    "import pandas as pd\n",
    "import re\n",
    "import json"
   ]
  },
  {
   "cell_type": "markdown",
   "id": "97b3f91e-5a4f-4fd6-bd19-6eb67aa8e4d8",
   "metadata": {},
   "source": [
    "# Crawler Class\n",
    "> #### Note On Season Identifiers\n",
    "> Season years are represented in th from of \"Season year-year+1\" (e.g. Season 2021-2022). To have less data complexity and more efficieny I choose \"year+1\" from each season in the form of \"year-year+1\" as a key for that specific season because the website [basketball-reference.com](www.basketball-reference.com) is also doing the same.\n",
    "> \n",
    ">  **TL;DR**: The key \"2024\" points to the 2023-24 season.  "
   ]
  },
  {
   "cell_type": "code",
   "execution_count": 3,
   "id": "3d01c514-796f-4430-b147-d34ef5b14920",
   "metadata": {},
   "outputs": [],
   "source": [
    "class Crawler:\n",
    "    def get_mvps(self, mvp_page):\n",
    "        mvp_soup = BeautifulSoup(mvp_page.content, \"html.parser\")\n",
    "        mvp_soup = mvp_soup.find('table', id=\"mvp_NBA\").tbody.find_all(\"tr\")\n",
    "        mvp_df = pd.DataFrame(columns=[\"player_name\", \"player_id\", \"team\", \"year\"])\n",
    "\n",
    "        # Scraps Required Elements from each row of the table\n",
    "        for tr in mvp_soup:\n",
    "            mvp_df.loc[len(mvp_df)] = [      \n",
    "                tr.find(attrs={\"data-stat\":\"player\"}).a.string,\n",
    "                tr.find(attrs={\"data-stat\":\"player\"}).a.get(\"href\")[9:-5],\n",
    "                tr.find(attrs={\"data-stat\":\"team_id\"}).a.get(\"href\")[1:-5].split(\"/\")[1],\n",
    "                tr.find(attrs={\"data-stat\":\"team_id\"}).a.get(\"href\")[1:-5].split(\"/\")[-1]\n",
    "            ]\n",
    "        return mvp_df\n",
    "\n",
    "    def get_player_data(self, player_series: pd.Series, player_page):\n",
    "        player_series = player_series.copy()\n",
    "#        player_page = requests.get(\"https://www.basketball-reference.com/players/\" + player_series[\"player_id\"] + \".html\")\n",
    "        player_soup = BeautifulSoup(player_page.content, \"html.parser\")\n",
    "        return player_soup\n",
    "        \n",
    "        "
   ]
  },
  {
   "cell_type": "code",
   "execution_count": 4,
   "id": "bd6dde84-661f-438f-aec0-8ee96778a92d",
   "metadata": {},
   "outputs": [],
   "source": [
    "mvp_page = requests.get(\"https://www.basketball-reference.com/awards/mvp.html\")"
   ]
  },
  {
   "cell_type": "code",
   "execution_count": 26,
   "id": "a7780da2-4a19-49db-9184-bedac4f112ca",
   "metadata": {},
   "outputs": [],
   "source": [
    "c = Crawler()\n",
    "mvp = c.get_mvps(mvp_page)\n",
    "player_page = requests.get(\"https://www.basketball-reference.com/players/\" + mvp.iloc[10][\"player_id\"] + \".html\")"
   ]
  },
  {
   "cell_type": "code",
   "execution_count": 30,
   "id": "e821e544-acdf-491e-9adb-53e85b879e82",
   "metadata": {},
   "outputs": [
    {
     "name": "stdout",
     "output_type": "stream",
     "text": [
      "16\n",
      "Right\n",
      "['211cm', '108kg']\n",
      "States\n",
      "1988-09-29\n",
      "['Small Forward', 'Power Forward', 'Shooting Guard']\n"
     ]
    }
   ],
   "source": [
    "jokic = c.get_player_data(mvp.iloc[0], player_page)\n",
    "jokic_json = json.loads(jokic.find(\"script\", type=\"application/ld+json\").string)\n",
    "# experience\n",
    "print(int(jokic.find(\"strong\", string=re.compile(\".*Experience:.*\")).next_sibling.strip().split()[0]))\n",
    "print(jokic.find(\"strong\", string=re.compile(\".*Shoots:.*\")).next_sibling.strip())\n",
    "print(jokic.find(\"span\", string=re.compile(\".*lb\")).next_sibling.strip()[1:-1].split(\",\\xa0\"))\n",
    "print(jokic_json.get('birthPlace').split()[-1])\n",
    "print(jokic_json.get('birthDate'))\n",
    "\n",
    "position_string = jokic.find(\"strong\", string=re.compile(\".*Position:.*\")).next_sibling\n",
    "positions_cleaned = re.sub(r'[^\\w\\s,]', '', position_string)\n",
    "position_list = re.split(r',|and', positions_cleaned)\n",
    "position_list = [pos.strip() for pos in position_list if pos.strip()]\n",
    "print(position_list)"
   ]
  }
 ],
 "metadata": {
  "kernelspec": {
   "display_name": "Python 3 (ipykernel)",
   "language": "python",
   "name": "python3"
  },
  "language_info": {
   "codemirror_mode": {
    "name": "ipython",
    "version": 3
   },
   "file_extension": ".py",
   "mimetype": "text/x-python",
   "name": "python",
   "nbconvert_exporter": "python",
   "pygments_lexer": "ipython3",
   "version": "3.12.8"
  }
 },
 "nbformat": 4,
 "nbformat_minor": 5
}
