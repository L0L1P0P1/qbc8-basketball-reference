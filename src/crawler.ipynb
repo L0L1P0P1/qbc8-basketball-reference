{
 "cells": [
  {
   "cell_type": "markdown",
   "id": "a39151c8-4a69-403e-8242-78ec9d3c513d",
   "metadata": {},
   "source": [
    "# Modules To Import"
   ]
  },
  {
   "cell_type": "code",
   "execution_count": 116,
   "id": "a005fd11-7f6c-426a-a41b-13374cf92dab",
   "metadata": {},
   "outputs": [],
   "source": [
    "from bs4 import BeautifulSoup\n",
    "import requests\n",
    "import pandas as pd"
   ]
  },
  {
   "cell_type": "markdown",
   "id": "97b3f91e-5a4f-4fd6-bd19-6eb67aa8e4d8",
   "metadata": {},
   "source": [
    "# Crawler Class\n",
    "> #### Note On Season Identifiers\n",
    "> Season years are represented in th from of \"Season year-year+1\" (e.g. Season 2021-2022). To have less data complexity and more efficieny I choose \"year+1\" from each season in the form of \"year-year+1\" as a key for that specific season because the website [basketball-reference.com](www.basketball-reference.com) is also doing the same.\n",
    "> \n",
    ">  **TL;DR**: The key \"2024\" points to the 2023-24 season.  "
   ]
  },
  {
   "cell_type": "code",
   "execution_count": 129,
   "id": "3d01c514-796f-4430-b147-d34ef5b14920",
   "metadata": {},
   "outputs": [],
   "source": [
    "class Crawler:\n",
    "    def get_mvps(self, mvp_page):\n",
    "        mvp_soup = BeautifulSoup(mvp_page.content, \"html.parser\")\n",
    "        mvp_soup = mvp_soup.find('table', id=\"mvp_NBA\").tbody.find_all(\"tr\")\n",
    "        mvp_df = pd.DataFrame(columns=[\"player_name\", \"player_id\", \"team\"])\n",
    "\n",
    "        # Scraps Required Elements from each row of the table\n",
    "        for tr in mvp_soup:\n",
    "            mvp_df.loc[tr.find(attrs={\"data-stat\":\"team_id\"}).a.get(\"href\")[1:-5].split(\"/\")[-1]] = [\n",
    "                tr.find(attrs={\"data-stat\":\"player\"}).a.string,\n",
    "                tr.find(attrs={\"data-stat\":\"player\"}).a.get(\"href\")[9:-5],\n",
    "                tr.find(attrs={\"data-stat\":\"team_id\"}).a.get(\"href\")[1:-5].split(\"/\")[1],\n",
    "            ]\n",
    "        return mvp_df"
   ]
  },
  {
   "cell_type": "code",
   "execution_count": 24,
   "id": "bd6dde84-661f-438f-aec0-8ee96778a92d",
   "metadata": {},
   "outputs": [],
   "source": [
    "mvp_page = requests.get(\"https://www.basketball-reference.com/awards/mvp.html\")"
   ]
  },
  {
   "cell_type": "code",
   "execution_count": 131,
   "id": "f2563f65-917c-4f2b-b393-ee815c06cf51",
   "metadata": {},
   "outputs": [
    {
     "name": "stdout",
     "output_type": "stream",
     "text": [
      "                player_name    player_id team\n",
      "2024           Nikola Jokić  j/jokicni01  DEN\n",
      "2023            Joel Embiid  e/embiijo01  PHI\n",
      "2022           Nikola Jokić  j/jokicni01  DEN\n",
      "2021           Nikola Jokić  j/jokicni01  DEN\n",
      "2020  Giannis Antetokounmpo  a/antetgi01  MIL\n",
      "...                     ...          ...  ...\n",
      "1960       Wilt Chamberlain  c/chambwi01  PHW\n",
      "1959             Bob Pettit  p/pettibo01  STL\n",
      "1958           Bill Russell  r/russebi01  BOS\n",
      "1957              Bob Cousy  c/cousybo01  BOS\n",
      "1956             Bob Pettit  p/pettibo01  STL\n",
      "\n",
      "[69 rows x 3 columns]\n"
     ]
    }
   ],
   "source": [
    "c = Crawler()\n",
    "mvp = c.get_mvps(mvp_page)\n",
    "print(mvp)"
   ]
  }
 ],
 "metadata": {
  "kernelspec": {
   "display_name": "Python 3 (ipykernel)",
   "language": "python",
   "name": "python3"
  },
  "language_info": {
   "codemirror_mode": {
    "name": "ipython",
    "version": 3
   },
   "file_extension": ".py",
   "mimetype": "text/x-python",
   "name": "python",
   "nbconvert_exporter": "python",
   "pygments_lexer": "ipython3",
   "version": "3.12.8"
  }
 },
 "nbformat": 4,
 "nbformat_minor": 5
}
